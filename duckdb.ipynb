{
 "cells": [
  {
   "cell_type": "code",
   "execution_count": 2,
   "id": "c7d78bed-6484-454c-88fc-b03cb46b262e",
   "metadata": {},
   "outputs": [
    {
     "name": "stdout",
     "output_type": "stream",
     "text": [
      "Python 3.10.5\n"
     ]
    }
   ],
   "source": [
    "!python --version"
   ]
  },
  {
   "cell_type": "code",
   "execution_count": 4,
   "id": "532b971a-14ef-4e1c-9b0d-404348ba9710",
   "metadata": {},
   "outputs": [],
   "source": [
    "import duckdb"
   ]
  },
  {
   "cell_type": "code",
   "execution_count": 6,
   "id": "8283b070-70c0-4c25-b41b-f7f436124197",
   "metadata": {},
   "outputs": [
    {
     "name": "stdout",
     "output_type": "stream",
     "text": [
      "┌───────┐\n",
      "│  42   │\n",
      "│ int32 │\n",
      "├───────┤\n",
      "│    42 │\n",
      "└───────┘\n",
      "\n"
     ]
    }
   ],
   "source": [
    "duckdb.sql(\"select 42\").show()"
   ]
  },
  {
   "cell_type": "code",
   "execution_count": 8,
   "id": "9bdaa780-ce8d-4cde-8ccc-bf7505b4b3e1",
   "metadata": {},
   "outputs": [
    {
     "name": "stdout",
     "output_type": "stream",
     "text": [
      "┌───────┐\n",
      "│   k   │\n",
      "│ int32 │\n",
      "├───────┤\n",
      "│    84 │\n",
      "└───────┘\n",
      "\n"
     ]
    }
   ],
   "source": [
    "r1 = duckdb.sql(\"SELECT 42 as i\")\n",
    "duckdb.sql(\"select i * 2 as k from r1\").show()"
   ]
  },
  {
   "cell_type": "code",
   "execution_count": 10,
   "id": "ddd27eb9-7963-4404-81c5-a666504a558e",
   "metadata": {},
   "outputs": [
    {
     "data": {
      "text/plain": [
       "┌─────────┬─────────┬─────────┬─────────┐\n",
       "│  name   │  algol  │  basic  │   c++   │\n",
       "│ varchar │ varchar │ varchar │ varchar │\n",
       "├─────────┼─────────┼─────────┼─────────┤\n",
       "│ Jerry   │ A       │ C       │ B+      │\n",
       "│ Riah    │ A+      │ B       │ C       │\n",
       "│ Paul    │ B       │ B+      │ C+      │\n",
       "└─────────┴─────────┴─────────┴─────────┘"
      ]
     },
     "execution_count": 10,
     "metadata": {},
     "output_type": "execute_result"
    }
   ],
   "source": [
    "duckdb.read_csv(\"df_sample.csv\")"
   ]
  }
 ],
 "metadata": {
  "kernelspec": {
   "display_name": "Python 3 (ipykernel)",
   "language": "python",
   "name": "python3"
  },
  "language_info": {
   "codemirror_mode": {
    "name": "ipython",
    "version": 3
   },
   "file_extension": ".py",
   "mimetype": "text/x-python",
   "name": "python",
   "nbconvert_exporter": "python",
   "pygments_lexer": "ipython3",
   "version": "3.10.5"
  }
 },
 "nbformat": 4,
 "nbformat_minor": 5
}
