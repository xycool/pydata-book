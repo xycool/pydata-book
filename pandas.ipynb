{
 "cells": [
  {
   "cell_type": "code",
   "execution_count": 1,
   "id": "525a9e75-11e7-4aca-92d9-8b2f81ed43fc",
   "metadata": {},
   "outputs": [],
   "source": [
    "import pandas as pd"
   ]
  },
  {
   "cell_type": "markdown",
   "id": "e6d64667-bcf5-4c55-9f23-2b3d2c489982",
   "metadata": {},
   "source": [
    "### to_csv"
   ]
  },
  {
   "cell_type": "code",
   "execution_count": 7,
   "id": "ade21414-e506-4bad-a57d-0a4ded3464b4",
   "metadata": {},
   "outputs": [],
   "source": [
    "data = {'name': ['Jerry', 'Riah', 'Paul'],\n",
    "        'algol': ['A', 'A+', 'B'],\n",
    "        'basic': ['C', 'B', 'B+'],\n",
    "        'c++': ['B+', 'C', 'C+']\n",
    "       }\n",
    "df = pd.DataFrame(data)\n",
    "df.set_index('name', inplace=True)\n",
    "df.to_csv('./df_sample.csv')"
   ]
  },
  {
   "cell_type": "markdown",
   "id": "2aeefdd5-59e3-4c9a-af9d-af21bf1f8384",
   "metadata": {},
   "source": [
    "### to_json"
   ]
  },
  {
   "cell_type": "code",
   "execution_count": 8,
   "id": "eda6a410-a7cf-449e-9df4-563afc969bca",
   "metadata": {},
   "outputs": [],
   "source": [
    "df.to_json('./df_sample.json')"
   ]
  },
  {
   "cell_type": "markdown",
   "id": "6fe4b015-0fc4-410e-bdcc-1081b8de4059",
   "metadata": {},
   "source": [
    "### to_excel"
   ]
  },
  {
   "cell_type": "code",
   "execution_count": 10,
   "id": "d78837d6-64ba-40e2-96b8-d677450d3d10",
   "metadata": {},
   "outputs": [],
   "source": [
    "df.to_excel('./df_sample.xlsx', encoding='utf-8')"
   ]
  }
 ],
 "metadata": {
  "kernelspec": {
   "display_name": "Python 3 (ipykernel)",
   "language": "python",
   "name": "python3"
  },
  "language_info": {
   "codemirror_mode": {
    "name": "ipython",
    "version": 3
   },
   "file_extension": ".py",
   "mimetype": "text/x-python",
   "name": "python",
   "nbconvert_exporter": "python",
   "pygments_lexer": "ipython3",
   "version": "3.10.5"
  }
 },
 "nbformat": 4,
 "nbformat_minor": 5
}
